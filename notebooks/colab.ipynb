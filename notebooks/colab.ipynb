{
 "cells": [
  {
   "cell_type": "code",
   "execution_count": null,
   "metadata": {},
   "outputs": [],
   "source": [
    "!git clone https://github.com/zjukg/MANS.git"
   ]
  },
  {
   "cell_type": "code",
   "execution_count": null,
   "metadata": {},
   "outputs": [],
   "source": [
    "%cd /content/MANS/visual\n",
    "!gdown https://drive.google.com/uc?id=1XeH56evXtJpggD4LnsQOMfdPx1kZNdzk\n",
    "!gdown https://drive.google.com/uc?id=1cmwliDboLYosW0-62I3lGu-6BspzwaJB"
   ]
  },
  {
   "cell_type": "code",
   "execution_count": null,
   "metadata": {},
   "outputs": [],
   "source": [
    "%cd /content/MANS/mmns\n",
    "!g++ ./base/Base.cpp -fPIC -shared -o ./release/Base.so -pthread -O3 -march=native"
   ]
  },
  {
   "cell_type": "code",
   "execution_count": null,
   "metadata": {},
   "outputs": [],
   "source": [
    "%cd /content/MANS\n",
    "BETA=0.3\n",
    "DATA='FB15K'\n",
    "KERNEL='transe'\n",
    "NEG_NUM=1\n",
    "MARGIN=6\n",
    "\n",
    "!python run.py -dataset=$DATA \\\n",
    "  -num_batch=400 \\\n",
    "  -margin=$MARGIN \\\n",
    "  -neg_mode=img \\\n",
    "  -train_mode=adp \\\n",
    "  -epoch=1000 \\\n",
    "  -save=./checkpoint/FB15K-transe-twostage \\\n",
    "  -test_mode=lp \\\n",
    "  -img_grad=False \\\n",
    "  -img_dim=4096 \\\n",
    "  -neg_num=$NEG_NUM \\\n",
    "  -kernel=$KERNEL \\\n",
    "  -learning_rate=1.0 \\\n",
    "  -beta=$BETA  # > ./log/$DATA-$KERNEL-$MARGIN-ts-$BETA-lp.txt &"
   ]
  }
 ],
 "metadata": {
  "language_info": {
   "name": "python"
  }
 },
 "nbformat": 4,
 "nbformat_minor": 2
}
